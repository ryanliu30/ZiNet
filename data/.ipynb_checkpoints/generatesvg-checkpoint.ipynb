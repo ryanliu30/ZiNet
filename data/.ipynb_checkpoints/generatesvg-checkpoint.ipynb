{
 "cells": [
  {
   "cell_type": "code",
   "execution_count": 1,
   "id": "8d215d64",
   "metadata": {},
   "outputs": [
    {
     "ename": "ModuleNotFoundError",
     "evalue": "No module named 'shape'",
     "output_type": "error",
     "traceback": [
      "\u001b[0;31m---------------------------------------------------------------------------\u001b[0m",
      "\u001b[0;31mModuleNotFoundError\u001b[0m                       Traceback (most recent call last)",
      "Input \u001b[0;32mIn [1]\u001b[0m, in \u001b[0;36m<cell line: 9>\u001b[0;34m()\u001b[0m\n\u001b[1;32m      7\u001b[0m \u001b[38;5;28;01mimport\u001b[39;00m \u001b[38;5;21;01mtime\u001b[39;00m\n\u001b[1;32m      8\u001b[0m \u001b[38;5;28;01mimport\u001b[39;00m \u001b[38;5;21;01mnumpy\u001b[39;00m \u001b[38;5;28;01mas\u001b[39;00m \u001b[38;5;21;01mnp\u001b[39;00m\n\u001b[0;32m----> 9\u001b[0m \u001b[38;5;28;01mimport\u001b[39;00m \u001b[38;5;21;01mshape\u001b[39;00m\n",
      "\u001b[0;31mModuleNotFoundError\u001b[0m: No module named 'shape'"
     ]
    }
   ],
   "source": [
    "from fontTools import ttLib\n",
    "import pandas as pd\n",
    "import glob\n",
    "import os\n",
    "from tqdm import tqdm\n",
    "import shutil\n",
    "import time\n",
    "import numpy as np\n",
    "import shape"
   ]
  },
  {
   "cell_type": "code",
   "execution_count": 179,
   "id": "ef1efd44",
   "metadata": {},
   "outputs": [
    {
     "data": {
      "text/plain": [
       "['NotoSansCJKtc-Regular.otf',\n",
       " 'fontA.ttf',\n",
       " 'AdobeSongStd-Light.otf',\n",
       " 'AdobeFangsongStd-Regular.otf',\n",
       " 'AdobeHeitiStd-Regular.otf',\n",
       " 'AdobeKaitiStd-Regular.otf']"
      ]
     },
     "execution_count": 179,
     "metadata": {},
     "output_type": "execute_result"
    }
   ],
   "source": [
    "FONTDIR = \"fonts/\"\n",
    "PATHS = [path[len(FONTDIR):] for path in glob.glob(f'{FONTDIR}/*')] # list of font names\n",
    "SVG_OUTPUT_PATH = \"./SVGs\"      # svg output directory\n",
    "BEZIER_OUTPUT_PATH = \"./Bezier\" # Bezier output dir\n",
    "PATHS"
   ]
  },
  {
   "cell_type": "code",
   "execution_count": 2,
   "id": "5459b473",
   "metadata": {},
   "outputs": [],
   "source": [
    "shutil.rmtree(f'{SVG_OUTPUT_PATH}') #cleans OUTPUT_PATH and also removes it; will be added back in on the next for loop\n",
    "print(\"Finished Cleaning\")\n",
    "for path in PATHS:  \n",
    "    #ensure every font has a corresponding folder, name of folder is just font file name\n",
    "    newpath = f'{SVG_OUTPUT_PATH}/{path}'\n",
    "    try:\n",
    "        os.makedirs(newpath)\n",
    "    except:\n",
    "        continue\n",
    "print(\"Finished Reconstructing Folders\")\n"
   ]
  },
  {
   "cell_type": "code",
   "execution_count": 3,
   "id": "3837a0c6",
   "metadata": {},
   "outputs": [
    {
     "ename": "NameError",
     "evalue": "name 'PATHS' is not defined",
     "output_type": "error",
     "traceback": [
      "\u001b[0;31m---------------------------------------------------------------------------\u001b[0m",
      "\u001b[0;31mNameError\u001b[0m                                 Traceback (most recent call last)",
      "Input \u001b[0;32mIn [3]\u001b[0m, in \u001b[0;36m<cell line: 1>\u001b[0;34m()\u001b[0m\n\u001b[0;32m----> 1\u001b[0m fonts \u001b[38;5;241m=\u001b[39m [ttLib\u001b[38;5;241m.\u001b[39mTTFont(FONTDIR \u001b[38;5;241m+\u001b[39m path) \u001b[38;5;28;01mfor\u001b[39;00m path \u001b[38;5;129;01min\u001b[39;00m \u001b[43mPATHS\u001b[49m]\n\u001b[1;32m      2\u001b[0m chars \u001b[38;5;241m=\u001b[39m pd\u001b[38;5;241m.\u001b[39mread_csv(\u001b[38;5;124m\"\u001b[39m\u001b[38;5;124m./edu_standard.csv\u001b[39m\u001b[38;5;124m\"\u001b[39m)\n",
      "\u001b[0;31mNameError\u001b[0m: name 'PATHS' is not defined"
     ]
    }
   ],
   "source": [
    "fonts = [ttLib.TTFont(FONTDIR + path) for path in PATHS]\n",
    "chars = pd.read_csv(\"./edu_standard.csv\")"
   ]
  },
  {
   "cell_type": "code",
   "execution_count": 4,
   "id": "e9f2d520",
   "metadata": {},
   "outputs": [],
   "source": [
    "supports = np.zeros((len(PATHS), len(chars[\"Character\"])))                # HasFound[i][j]: If the ith font supports character j\n",
    "# indexes mentioned in the code are all the index that they appear in the edu_standard.csv file.\n",
    "for i, font in enumerate(fonts): \n",
    "    for cmap in font['cmap'].tables:\n",
    "        if cmap.isUnicode():\n",
    "            st = time.time()\n",
    "            toGenerate = []  # List of characters supported by the font\n",
    "            indexes    = []  # The indexes of the characters in the above\n",
    "            for idx, char_ in enumerate(chars[\"Character\"]):\n",
    "                char = ord(char_)\n",
    "                if char in cmap.cmap:\n",
    "                    toGenerate.append(cmap.cmap[char]) # cmap.cmap[char] stores the CID for the given character\n",
    "                    indexes.append(idx)\n",
    "                supports[i, idx] = (char in cmap.cmap) \n",
    "\n",
    "            # Generate desired svg files\n",
    "            os.system(f'fonts2svg -c 000000 {FONTDIR}{PATHS[i]} -o {SVG_OUTPUT_PATH}/{PATHS[i]} -g {\",\".join(toGenerate)} > /dev/null') \n",
    "\n",
    "            for idx, svgName in zip(indexes, toGenerate):\n",
    "                os.rename(f'{SVG_OUTPUT_PATH}/{PATHS[i]}/{svgName}.svg', f'{SVG_OUTPUT_PATH}/{PATHS[i]}/{idx}.svg') # rename according to index\n",
    "            ed = time.time()\n",
    "            print(f'Finished Generation for font {PATHS[i]}: ΔT = {ed - st}s')\n",
    "            break\n",
    "\n",
    "with open(\"./font_support.pkl\", \"wb\") as f:\n",
    "    pkl.save(HasFound, f)\n",
    "    print(\"Saved Font Support Matrix to disk\")\n",
    "    "
   ]
  },
  {
   "cell_type": "code",
   "execution_count": null,
   "id": "6e4a5ba1",
   "metadata": {},
   "outputs": [],
   "source": [
    "# Convert SVG to Bezier Curves \n"
   ]
  }
 ],
 "metadata": {
  "kernelspec": {
   "display_name": "Python 3 (ipykernel)",
   "language": "python",
   "name": "python3"
  },
  "language_info": {
   "codemirror_mode": {
    "name": "ipython",
    "version": 3
   },
   "file_extension": ".py",
   "mimetype": "text/x-python",
   "name": "python",
   "nbconvert_exporter": "python",
   "pygments_lexer": "ipython3",
   "version": "3.8.13"
  }
 },
 "nbformat": 4,
 "nbformat_minor": 5
}
